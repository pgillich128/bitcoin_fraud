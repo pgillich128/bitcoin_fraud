{
  "nbformat": 4,
  "nbformat_minor": 0,
  "metadata": {
    "colab": {
      "name": "big_data_fraud.ipynb",
      "provenance": [],
      "collapsed_sections": []
    },
    "kernelspec": {
      "name": "python3",
      "display_name": "Python 3"
    },
    "language_info": {
      "name": "python"
    }
  },
  "cells": [
    {
      "cell_type": "markdown",
      "source": [
        "We will investigate the Elliptic dataset (available at https://www.kaggle.com/datasets/ellipticco/elliptic-data-set). This is the largest dataset concerning the Bitcoin transaction graph to date, and is provided by the firm Elliptic for use by researchers.\n",
        "\n",
        "The dataset consists of a list of nodes and edges; the nodes represent transactions, and the edges represent transfers of Bitcoin from one transaction to another.\n",
        "\n",
        "\n",
        "The dataset splits the nodes into three classes: \n",
        "\n",
        "\n",
        "\n",
        "1.   Illicit transactions\n",
        "2.   Licit transactions\n",
        "3.   Unknown transactions\n",
        "\n",
        "\n",
        "\n",
        "Each node has 166 features, which unfortulately cannot be described due to IP rights issues--it's enough to say that they represent various metrics on number of neighbours, or average amount sent, and so on.\n",
        "\n",
        "Each node has a `timestamp` feature, an integer from 1 to 49--the timestamps are evenly spaced in ~2 week intervals. Each node is part of a connected component of transactions occurring at roughly the same time, so that no two nodes with different timestamps are connected by an edge. \n",
        "\n",
        "(source: https://www.kaggle.com/datasets/ellipticco/elliptic-data-set)"
      ],
      "metadata": {
        "id": "lA1Mr81HhOG-"
      }
    },
    {
      "cell_type": "code",
      "execution_count": null,
      "metadata": {
        "id": "ZBaNQYghOX3W"
      },
      "outputs": [],
      "source": [
        "!apt-get update -qq > /dev/null\n",
        "!apt-get install openjdk-8-jdk-headless -qq > /dev/null\n",
        "#!wget -q https://downloads.apache.org/spark/spark-2.4.8/spark-2.4.8-bin-hadoop2.7.tgz\n",
        "!wget -q https://downloads.apache.org/spark/spark-3.2.1/spark-3.2.1-bin-hadoop3.2.tgz\n",
        "#!tar xf spark-2.4.8-bin-hadoop2.7.tgz\n",
        "!tar xf spark-3.2.1-bin-hadoop3.2.tgz\n",
        "!pip install -q findspark"
      ]
    },
    {
      "cell_type": "code",
      "source": [
        "import os\n",
        "os.environ[\"JAVA_HOME\"] = \"/usr/lib/jvm/java-8-openjdk-amd64\"\n",
        "#os.environ[\"SPARK_HOME\"] = \"/content/spark-2.4.8-bin-hadoop2.7\"\n",
        "os.environ[\"SPARK_HOME\"] = \"/content/spark-3.2.1-bin-hadoop3.2\"\n",
        "\n",
        "import findspark\n",
        "findspark.init()\n",
        "\n",
        "from pyspark import SparkContext, SparkConf\n",
        "from pyspark.ml.linalg import Vectors\n",
        "import numpy as np \n",
        "from pyspark.sql import SparkSession #to make dataframe from rdd easily\n",
        "import time\n",
        "\n",
        "sc = SparkContext(appName=\"bitcoinFraud\", master=\"local[*]\")\n",
        "spark_session = SparkSession(sc)"
      ],
      "metadata": {
        "id": "lsEqMN-jn7I7"
      },
      "execution_count": null,
      "outputs": []
    },
    {
      "cell_type": "markdown",
      "source": [
        "We load the datasets into some RDD's. We load the labels and the features into separate dataframes, rename some columns, and join the labels to the features."
      ],
      "metadata": {
        "id": "8sbOtFdPRIje"
      }
    },
    {
      "cell_type": "code",
      "source": [
        "# perform some transformations on the features RDD, so that each row has shape\n",
        "# (tx_id, label, [features_list])\n",
        "\n",
        "feats_raw = sc.textFile(\n",
        "    \"/content/drive/MyDrive/elliptic_txs_features.csv\"\n",
        ").map(\n",
        "    lambda x: list(map(float, x.split(\",\")))\n",
        ").map(\n",
        "    lambda x: (int(x[0]), int(x[1]), Vectors.dense(np.array(x[2:])))\n",
        ").cache()\n",
        "\n",
        "labels_raw = sc.textFile(\n",
        "    \"/content/drive/MyDrive/elliptic_txs_classes.csv\"\n",
        ").cache()\n",
        "\n",
        "#remove first entry of the rdd\n",
        "first_entry = labels_raw.first()\n",
        "labels_raw = labels_raw.filter(\n",
        "    lambda x:x != first_entry\n",
        ").cache()\n",
        "\n",
        "\n",
        "#define a helper function to relabel 'unknown' transactions as -1\n",
        "def relabel(x):\n",
        "  if x[1] == 'unknown':\n",
        "    out = ( x[0], float(-1) )\n",
        "  elif x[1] == '2': # if licit\n",
        "    out =  ( x[0], float(0) )\n",
        "  else: # if illicit\n",
        "    out = ( x[0], float(1) )\n",
        "  return out\n",
        "\n",
        "labels_raw = labels_raw.map(\n",
        "    # split the line by commas, turn the first entry into a float\n",
        "    lambda x: (int(x.split(\",\")[0]), x.split(\",\")[1])\n",
        ").map(\n",
        "    relabel\n",
        ").cache()"
      ],
      "metadata": {
        "id": "4mFczodr25oY"
      },
      "execution_count": null,
      "outputs": []
    },
    {
      "cell_type": "markdown",
      "source": [
        "Let's look at the prevalence of each class:"
      ],
      "metadata": {
        "id": "O4BQm2LHppKF"
      }
    },
    {
      "cell_type": "code",
      "source": [
        "feats_df = feats_raw.toDF(['id', 'timestep', 'features'])\n",
        "labels_df = labels_raw.toDF(['id', 'label'])\n",
        "\n",
        "data = labels_df.join(\n",
        "    feats_df,\n",
        "    how='inner',\n",
        "    on='id'\n",
        ").sort(\n",
        "    'timestep'\n",
        ").cache()\n"
      ],
      "metadata": {
        "id": "SCl3984OpmGI"
      },
      "execution_count": null,
      "outputs": []
    },
    {
      "cell_type": "code",
      "source": [
        "import pandas as pd\n",
        "import matplotlib.pyplot as plt\n",
        "\n",
        "grouped = data.groupBy('timestep', 'label').count()\n",
        "illicit = grouped.filter('label==1.0').select('timestep', 'count').toPandas().to_numpy()\n",
        "licit = grouped.filter('label==0.0').select('timestep', 'count').toPandas().to_numpy()\n",
        "unknown = grouped.filter('label==-1.0').select('timestep', 'count').toPandas().to_numpy()\n",
        "\n",
        "hist_data = np.column_stack((illicit[:, 0], illicit[:, 1], licit[:, 1], unknown[:, 1]))\n",
        "plt.figure(figsize=(11, 8))\n",
        "\n",
        "\n",
        "plt.bar(licit[:, 0], unknown[:, 1], label='Unknown')\n",
        "plt.bar(licit[:, 0], illicit[:, 1], bottom=unknown[:, 1], label='Illicit')\n",
        "plt.bar(licit[:, 0], licit[:, 1], label=\"Licit\" )\n",
        "\n",
        "plt.xlabel(\"Timestamp\")\n",
        "plt.ylabel(\"Number of Occurrences\")\n",
        "plt.title(\"Transactions by Type\")\n",
        "plt.legend()\n",
        "plt.show()\n"
      ],
      "metadata": {
        "colab": {
          "base_uri": "https://localhost:8080/",
          "height": 513
        },
        "id": "YVUHByWJqy7c",
        "outputId": "eed4cf0f-2bd8-496f-cefe-2280a9e583bf"
      },
      "execution_count": null,
      "outputs": [
        {
          "output_type": "display_data",
          "data": {
            "text/plain": [
              "<Figure size 792x576 with 1 Axes>"
            ],
            "image/png": "[encoded data removed]"
          },
          "metadata": {
            "needs_background": "light"
          }
        }
      ]
    },
    {
      "cell_type": "markdown",
      "source": [
        "We see that most of the nodes are classed as unknown, with a tiny minority being classed as illicit. "
      ],
      "metadata": {
        "id": "s_swWi_0pl4E"
      }
    },
    {
      "cell_type": "code",
      "source": [
        "# join the two dataframes and filter out the uncategorized instances.\n",
        "\n",
        "data = labels_df.join(\n",
        "    feats_df,\n",
        "    how='inner',\n",
        "    on='id'\n",
        ").sort(\n",
        "    'timestep'\n",
        ").filter(\n",
        "    'label >= 0'\n",
        ").cache()\n",
        "\n",
        "# Remove all columns except label and features.\n",
        "data = data.select(data['label'], data['features'])\n"
      ],
      "metadata": {
        "id": "NBMu5ywXQ9-M"
      },
      "execution_count": null,
      "outputs": []
    },
    {
      "cell_type": "markdown",
      "source": [
        "We have gathered the labelled data in the above dataframe. \n",
        "In a 2019 ArXiv paper by Mark Weber et al, *Anti-Money Laundering in Bitcoin: Experimenting with Graph Convolutional Networks for Financial Forensics*\n",
        "(https://arxiv.org/abs/1908.02591), researchers used this dataset to train a model for illicit transaction detection. They used a variety of models, but found that a random forest model trained with default parameters in *scikit learn* had the best performance. \n",
        "\n",
        "We will attempt to train a random forest classifier on the same dataset using the Spark ML library, and compare our results with those in the paper.\n",
        "\n",
        "First, we must import some libraries:"
      ],
      "metadata": {
        "id": "YxtoeLEUwOUT"
      }
    },
    {
      "cell_type": "code",
      "source": [
        "# code adapted from https://spark.apache.org/docs/latest/ml-classification-regression.html#random-forest-classifier\n",
        "from pyspark.ml import Pipeline\n",
        "from pyspark.ml.classification import RandomForestClassifier\n",
        "from pyspark.ml.feature import IndexToString, StringIndexer, VectorIndexer"
      ],
      "metadata": {
        "id": "0PX9-FWbYCZs"
      },
      "execution_count": null,
      "outputs": []
    },
    {
      "cell_type": "markdown",
      "source": [
        "As in the paper by Weber et al., we split the data into train (70%) and test (%30) sets. Instances with timestamp $\\leq 34$ will go to the training set, and the rest will go to the test set.\n",
        "\n"
      ],
      "metadata": {
        "id": "v1vwk_jACBEw"
      }
    },
    {
      "cell_type": "code",
      "source": [
        "# code adapted from https://spark.apache.org/docs/latest/ml-classification-regression.html#random-forest-classifier\n",
        "\n",
        "#need to make label indexers. This gives an index to each possible label in the dataset, 0.0 for most frequent, then 1.0, and so on\n",
        "labelIndexer = StringIndexer(inputCol=\"label\", outputCol=\"indexedLabel\").fit(data)\n",
        "#need to make feature indexer--automatically identifies categorical features and indexes them. Here all features are real-valued.\n",
        "featureIndexer = VectorIndexer(\n",
        "    inputCol='features', outputCol='indexedFeatures', maxCategories=2\n",
        ").fit(data)\n",
        "\n",
        "\n",
        "# split the dataset into train and test sets. \n",
        "train_df = data.filter(\n",
        "    \"timestep <= 34\"\n",
        ").cache()\n",
        "\n",
        "test_df = data.filter(\n",
        "    \"timestep > 34\"\n",
        ").cache()\n",
        "\n"
      ],
      "metadata": {
        "id": "_JmzMqOKCAAE"
      },
      "execution_count": null,
      "outputs": []
    },
    {
      "cell_type": "markdown",
      "source": [
        "We are now ready to define our model and begin training."
      ],
      "metadata": {
        "id": "aZd_FVkkEwkP"
      }
    },
    {
      "cell_type": "code",
      "source": [
        "# code credit:\n",
        "# https://spark.apache.org/docs/latest/ml-classification-regression.html#random-forest-classifier\n",
        "\n",
        "# define the random forest model, using\n",
        "rf = RandomForestClassifier(labelCol=\"indexedLabel\", featuresCol=\"indexedFeatures\", numTrees=100)\n",
        "\n",
        "# we need to convert the indexed labels back to the original labels\n",
        "labelConverter = IndexToString(\n",
        "    inputCol='prediction', \n",
        "    outputCol='predictedLabel',\n",
        "    labels=labelIndexer.labels\n",
        ")\n",
        "\n",
        "# we construct a pipeline, which chains together the indexing, training, and\n",
        "# de-indexing\n",
        "pipeline = Pipeline(stages=[labelIndexer, featureIndexer, rf, labelConverter])\n",
        "\n",
        "#train the model\n",
        "model = pipeline.fit(train_df)\n"
      ],
      "metadata": {
        "id": "Tg_dpWqCE0xW"
      },
      "execution_count": null,
      "outputs": []
    },
    {
      "cell_type": "markdown",
      "source": [
        "The model is now trained--time to evaluate the performance of the model!"
      ],
      "metadata": {
        "id": "fJ6w1lHdUp2n"
      }
    },
    {
      "cell_type": "code",
      "source": [
        "# code credit:\n",
        "# https://spark.apache.org/docs/latest/ml-classification-regression.html#random-forest-classifier\n",
        "\n",
        "import matplotlib.pyplot as plt\n",
        "# define function to return false positives and true positives by threshold\n",
        "def get_roc(rdd, thresh):\n",
        "  '''\n",
        "  rdd: an RDD with rows of shape (label, predictedLabel, prob_of_illicit)\n",
        "  thresh: a float in [0, 1]\n",
        "  '''\n",
        "  fp = rdd.filter(lambda x: x[0]==0.0 and x[2] > thresh ).count()\n",
        "  tp = rdd.filter(lambda x: x[0]==1.0 and x[2] > thresh).count()\n",
        "  fn = rdd.filter(lambda x: x[0]==1.0 and x[2] <= thresh).count()\n",
        "  tn = rdd.filter(lambda x: x[0]==0.0 and x[2] <= thresh).count()\n",
        "\n",
        "  fpr = fp/(fp + tn)\n",
        "  tpr = tp/(tp + fn)\n",
        "\n",
        "  return fpr, tpr\n",
        "\n",
        "def get_metrics(rdd):\n",
        "  '''\n",
        "  rdd: an RDD with rows of shape (label, predictedLabel, prob_of_illicit)\n",
        "  '''\n",
        "  fp = rdd.filter(lambda x: x[0]==0.0 and x[1]== 1.0 ).count()\n",
        "  tp = rdd.filter(lambda x: x[0]==1.0 and x[1]== 1.0 ).count()\n",
        "  fn = rdd.filter(lambda x: x[0]==1.0 and x[1]== 0.0).count()\n",
        "  tn = rdd.filter(lambda x: x[0]==0.0 and x[1]== 0.0).count()\n",
        "\n",
        "  fpr = fp/(fp + tn)\n",
        "  tpr = tp/(tp + fn)\n",
        "\n",
        "  return fpr, tpr, {'fp': fp, 'tp':tp, 'fn':fn, 'tn':tn}\n",
        "\n",
        "\n",
        "# Make predictions.\n",
        "predictions = model.transform(test_df)\n",
        "# select relevant columns from the DataFrame, make it into an RDD\n",
        "pred_and_label = predictions.select(\n",
        "    'label', 'predictedLabel', 'probability'\n",
        ").rdd.map(\n",
        "    lambda x: ( x.__getitem__('label'),\n",
        "                float(x.__getitem__('predictedLabel')),\n",
        "                x.__getitem__('probability')[1]\n",
        "               )\n",
        ").cache()\n",
        "\n",
        "\n",
        "thresholds = np.linspace(0, 1, 20)\n",
        "\n",
        "fpr_list = []\n",
        "tpr_list = []\n",
        "\n",
        "for t in thresholds:\n",
        "  fpr, tpr = get_roc(pred_and_label, t)\n",
        "  fpr_list.append(fpr)\n",
        "  tpr_list.append(tpr)\n",
        "\n"
      ],
      "metadata": {
        "id": "Phi4d3bfUzuu"
      },
      "execution_count": null,
      "outputs": []
    },
    {
      "cell_type": "code",
      "source": [
        "plt.figure(figsize=(10, 10))\n",
        "\n",
        "plt.plot(fpr_list, tpr_list,'-', thresholds, thresholds, '--')\n",
        "plt.xlabel(\"False Positive Rate\")\n",
        "plt.ylabel(\"True Positive Rate\")\n",
        "plt.title('ROC Curve, Bitcoin Fraud Detection')"
      ],
      "metadata": {
        "colab": {
          "base_uri": "https://localhost:8080/",
          "height": 640
        },
        "id": "BE0pf4duR8IL",
        "outputId": "26dfaca8-2815-4042-dcf9-3d209fe71a81"
      },
      "execution_count": null,
      "outputs": [
        {
          "output_type": "execute_result",
          "data": {
            "text/plain": [
              "Text(0.5, 1.0, 'ROC Curve, Bitcoin Fraud Detection')"
            ]
          },
          "metadata": {},
          "execution_count": 12
        },
        {
          "output_type": "display_data",
          "data": {
            "text/plain": [
              "<Figure size 720x720 with 1 Axes>"
            ],
            "image/png": "[encoded data removed]"
          },
          "metadata": {
            "needs_background": "light"
          }
        }
      ]
    },
    {
      "cell_type": "code",
      "source": [
        "fpr, tpr, con = get_metrics(pred_and_label)\n",
        "\n",
        "prec = con['tp']/(con['tp'] + con['fp'])\n",
        "f1 = 2*con['tp']/(2*con['tp'] + con['fp'] + con['fn'])\n",
        "\n",
        "print('Precision = %g' % prec)\n",
        "print(\"True Positive Rate = %g\" % tpr)\n",
        "print(\"False Positive Rate = %g\" % fpr)\n",
        "print(\"F1 Score = %g\" %f1)\n"
      ],
      "metadata": {
        "colab": {
          "base_uri": "https://localhost:8080/"
        },
        "id": "8UfpCI5at7kC",
        "outputId": "c46d3790-aef6-4f64-de5c-7ce4dc1747bf"
      },
      "execution_count": null,
      "outputs": [
        {
          "output_type": "stream",
          "name": "stdout",
          "text": [
            "Precision = 0.989766\n",
            "True Positive Rate = 0.625115\n",
            "False Positive Rate = 0.000449092\n",
            "F1 Score = 0.766271\n"
          ]
        }
      ]
    },
    {
      "cell_type": "markdown",
      "source": [
        "That's pretty cute, but the true positive rate is rather low. This could be due to the class imbalance in the dataset. Let's look at the distribution of classes again:"
      ],
      "metadata": {
        "id": "nvZKtXFYECA-"
      }
    },
    {
      "cell_type": "code",
      "source": [
        "data.groupBy('label').count().show()"
      ],
      "metadata": {
        "colab": {
          "base_uri": "https://localhost:8080/"
        },
        "id": "1YVPXR3uFRvE",
        "outputId": "1c1b4e8d-2b06-4bdd-fa13-40a8720e406b"
      },
      "execution_count": null,
      "outputs": [
        {
          "output_type": "stream",
          "name": "stdout",
          "text": [
            "+-----+-----+\n",
            "|label|count|\n",
            "+-----+-----+\n",
            "|  0.0|42019|\n",
            "|  1.0| 4545|\n",
            "+-----+-----+\n",
            "\n"
          ]
        }
      ]
    },
    {
      "cell_type": "markdown",
      "source": [
        "There are about 10 times more licit examples than illicit ones--this is likely the cause of the low true positive rate. \n",
        "\n",
        "We can try to address this by augmenting the dataset by adding illicit examples to the dataset. By adding some small amount of random noise to the feature set of an illicit example, we can generate an example which, hopefully, will have similar properties to the real illicit example, which we label as also illicit. \n",
        "\n",
        "We will generate some dummy positive examples for each real one, and then add this to the training set to better balance the classes of the training data."
      ],
      "metadata": {
        "id": "ubXBT4PAFw51"
      }
    },
    {
      "cell_type": "code",
      "source": [
        "from pyspark.sql import Row\n",
        "\n",
        "aug_num = 6\n",
        "eps = 0.01\n",
        "def add_noise(row):\n",
        "  '''\n",
        "  Takes an RDD row, \n",
        "  '''\n",
        "  feats = row[1].toArray()\n",
        "  label = row[0]\n",
        "  rand = np.random.normal(size = (aug_num, len(feats)))* eps\n",
        "  noisy = feats + rand\n",
        "  out = [(label, noisy[i]) for i in range(aug_num)]\n",
        "  return out\n",
        "\n",
        "new_pos_instances = train_df.filter(\n",
        "    'label==1.0'\n",
        ").rdd.map(\n",
        "  add_noise\n",
        ").flatMap(\n",
        "    lambda x:x\n",
        ").map(\n",
        "    lambda x: Row(features=Vectors.dense(x[1]), label=x[0])\n",
        ").toDF(['features', 'label']).select('label', 'features')\n",
        "\n",
        "augmented_train_df = train_df.union(new_pos_instances).cache()\n",
        "\n"
      ],
      "metadata": {
        "id": "hsIc-TvzFwNa"
      },
      "execution_count": null,
      "outputs": []
    },
    {
      "cell_type": "markdown",
      "source": [
        "We now have a training set with more balanced classes:"
      ],
      "metadata": {
        "id": "p2toKOoazelP"
      }
    },
    {
      "cell_type": "code",
      "source": [
        "augmented_train_df.groupBy('label').count().show()"
      ],
      "metadata": {
        "colab": {
          "base_uri": "https://localhost:8080/"
        },
        "id": "2SMFx40OzydX",
        "outputId": "3e82b7f1-82ec-44c4-a579-b3674e937b15"
      },
      "execution_count": null,
      "outputs": [
        {
          "output_type": "stream",
          "name": "stdout",
          "text": [
            "+-----+-----+\n",
            "|label|count|\n",
            "+-----+-----+\n",
            "|  0.0|26432|\n",
            "|  1.0|24234|\n",
            "+-----+-----+\n",
            "\n"
          ]
        }
      ]
    },
    {
      "cell_type": "code",
      "source": [
        "# code credit:\n",
        "# https://spark.apache.org/docs/latest/ml-classification-regression.html#random-forest-classifier\n",
        "\n",
        "# define the random forest model, using\n",
        "rf_aug = RandomForestClassifier(labelCol=\"indexedLabel\", featuresCol=\"indexedFeatures\", numTrees=100)\n",
        "\n",
        "# we need to convert the indexed labels back to the original labels\n",
        "labelConverter = IndexToString(\n",
        "    inputCol='prediction', \n",
        "    outputCol='predictedLabel',\n",
        "    labels=labelIndexer.labels\n",
        ")\n",
        "\n",
        "# we construct a pipeline, which chains together the indexing, training, and\n",
        "# de-indexing\n",
        "pipeline = Pipeline(stages=[labelIndexer, featureIndexer, rf_aug, labelConverter])\n",
        "\n",
        "#train the model\n",
        "model_aug = pipeline.fit(augmented_train_df)\n"
      ],
      "metadata": {
        "id": "1DXyzfwUKpCV"
      },
      "execution_count": null,
      "outputs": []
    },
    {
      "cell_type": "markdown",
      "source": [
        "We trained a new model on the augmented data. Let's see how it does:"
      ],
      "metadata": {
        "id": "ksW7QQiP0kI3"
      }
    },
    {
      "cell_type": "code",
      "source": [
        "# Make predictions.\n",
        "predictions_aug = model_aug.transform(test_df)\n",
        "# select relevant columns from the DataFrame, make it into an RDD\n",
        "pred_and_label_aug = predictions_aug.select(\n",
        "    'label', 'predictedLabel', 'probability'\n",
        ").rdd.map(\n",
        "    lambda x: ( x.__getitem__('label'),\n",
        "                float(x.__getitem__('predictedLabel')),\n",
        "                x.__getitem__('probability')[1]\n",
        "               )\n",
        ").cache()"
      ],
      "metadata": {
        "id": "lX_lt-bq0saM"
      },
      "execution_count": null,
      "outputs": []
    },
    {
      "cell_type": "code",
      "source": [
        "fpr_list_aug = []\n",
        "tpr_list_aug = []\n",
        "\n",
        "for t in thresholds:\n",
        "  fpr_aug, tpr_aug = get_roc(pred_and_label_aug, t)\n",
        "  fpr_list_aug.append(fpr_aug)\n",
        "  tpr_list_aug.append(tpr_aug)"
      ],
      "metadata": {
        "id": "T93uie3R1NkI"
      },
      "execution_count": null,
      "outputs": []
    },
    {
      "cell_type": "code",
      "source": [
        "plt.figure(figsize=(10, 10))\n",
        "\n",
        "plt.plot(fpr_list, tpr_list, label='Unaugmented')\n",
        "plt.plot(thresholds, thresholds, 'b--')\n",
        "plt.plot(fpr_list_aug, tpr_list_aug, label=\"Augmented\")\n",
        "plt.xlabel(\"False Positive Rate\")\n",
        "plt.ylabel(\"True Positive Rate\")\n",
        "plt.title('ROC Curves, Bitcoin Fraud Detection')\n",
        "plt.legend()"
      ],
      "metadata": {
        "colab": {
          "base_uri": "https://localhost:8080/",
          "height": 640
        },
        "id": "BF0yhP9-1sZI",
        "outputId": "cca65e1e-c315-45a6-ea08-3f663ab77e8d"
      },
      "execution_count": null,
      "outputs": [
        {
          "output_type": "execute_result",
          "data": {
            "text/plain": [
              "<matplotlib.legend.Legend at 0x7f747c4b71d0>"
            ]
          },
          "metadata": {},
          "execution_count": 20
        },
        {
          "output_type": "display_data",
          "data": {
            "text/plain": [
              "<Figure size 720x720 with 1 Axes>"
            ],
            "image/png": "[encoded data removed]"
          },
          "metadata": {
            "needs_background": "light"
          }
        }
      ]
    },
    {
      "cell_type": "code",
      "source": [
        "fpr_aug, tpr_aug, con_aug = get_metrics(pred_and_label_aug)\n",
        "\n",
        "prec_aug = con_aug['tp']/(con_aug['tp'] + con_aug['fp'])\n",
        "f1_aug = 2*con_aug['tp']/(2*con_aug['tp'] + con_aug['fp'] + con_aug['fn'])\n",
        "\n",
        "print('Precision = %g' % prec_aug)\n",
        "print(\"True Positive Rate = %g\" % tpr_aug)\n",
        "print(\"False Positive Rate = %g\" % fpr_aug)\n",
        "print(\"F1 Score = %g\" %f1_aug)"
      ],
      "metadata": {
        "colab": {
          "base_uri": "https://localhost:8080/"
        },
        "id": "qCHgi3AP4zrH",
        "outputId": "8a9af75b-18ba-4d80-a1b8-054e14ee957a"
      },
      "execution_count": null,
      "outputs": [
        {
          "output_type": "stream",
          "name": "stdout",
          "text": [
            "Precision = 0.985486\n",
            "True Positive Rate = 0.626962\n",
            "False Positive Rate = 0.00064156\n",
            "F1 Score = 0.766366\n"
          ]
        }
      ]
    },
    {
      "cell_type": "markdown",
      "source": [
        "It looks like simple data augmentation does not help much here--perhaps it was wishful thinking!\n",
        "\n",
        "Decision trees work as follows (source: https://spark.apache.org/docs/latest/mllib-decision-tree.html): The dataset $D$ is recursively partitioned into two sets, $L$ and $R$, on the split point $s$. The algorithm greedily chooses a split point which maximizes the information gain\n",
        "\n",
        "$$ IG(D, s) = impurity(D) - impurity(L) - impurity(R)$$\n",
        "where $impurity(\\cdot)$ is the so-called Gini impurity\n",
        "$$ G(S) = \\sum_{i=1}^C f_i(1-f_i)$$\n",
        "\n",
        "where $C$ is the number of class labels in the dataset, and $f_i$ is the frequency of class $i$ in the set $S$. \n",
        "\n",
        "The following reweighting strategy, from Ting (2002)*, weighs instances of a class inversely proportional to the prevalence of that class in the dataset, so that misclassification of the minority class incurs a larger penalty. We introduce, for the class $j$, $N$ being the total number of instances, $N_j$ being the number of instances of the class $j$, the weights\n",
        "\n",
        "$$ w_j = \\frac{NC_j}{\\sum_{i}N_iC_i}$$\n",
        "where C_i is the 'cost' of misclassifying an instance of class $j$. Here, we chose $C_0 = 0.3$, $C_1 = 0.7$--this was somewhat arbitrary, but is meant to reflect that it's worse to miss a sketchy transaction than to falsely accuse someone. \n",
        "\n",
        "For a weighted decision tree, we instead compute the weighted Gini impurity\n",
        "\n",
        "$$ G_w(S) = \\sum_{i=1}^C w_if_i(1-f_i)$$\n",
        "\n",
        "which, intuitively, compensates for the dearth of positive samples.\n",
        "\n",
        "* \\*K.M. Ting, “An Instance-Weighting Method to Induce Cost\u0002Sensitive Trees,” IEEE Trans. Knowledge and Data Eng., vol. 14,\n",
        "no. 3, pp. 659-665, May/June 2002.*"
      ],
      "metadata": {
        "id": "7Eoq7npUODZL"
      }
    },
    {
      "cell_type": "code",
      "source": [
        "# code credit:\n",
        "# https://spark.apache.org/docs/latest/ml-classification-regression.html#random-forest-classifier\n",
        "# https://www.datatrigger.org/post/spark_3_weighted_random_forest/\n",
        "\n",
        "from pyspark.sql.functions import col\n",
        "from pyspark.sql.functions import when\n",
        "\n",
        "c = np.array([0.3, 0.7])\n",
        "\n",
        "n = np.array([data.filter('label==0').count(), data.filter('label==1').count()])\n",
        "N = np.sum(n)\n",
        "\n",
        "w = [ N*c[j]/np.sum(n * c) for j in range(len(c))]\n",
        "\n",
        "# attach class weights to the data\n",
        "train_df_weighted = train_df.withColumn(\"weight\", when(col(\"label\") ==1, w[1]).otherwise(w[0]))"
      ],
      "metadata": {
        "id": "L5-BnY8FOA5N"
      },
      "execution_count": null,
      "outputs": []
    },
    {
      "cell_type": "code",
      "source": [
        "# define the random forest model, using weights this time\n",
        "rf_weighted = RandomForestClassifier(labelCol=\"indexedLabel\", featuresCol=\"indexedFeatures\", weightCol='weight', numTrees=100)\n",
        "\n",
        "# we need to convert the indexed labels back to the original labels\n",
        "labelConverter = IndexToString(\n",
        "    inputCol='prediction', \n",
        "    outputCol='predictedLabel',\n",
        "    labels=labelIndexer.labels\n",
        ")\n",
        "\n",
        "# we construct a pipeline, which chains together the indexing, training, and\n",
        "# de-indexing\n",
        "pipeline = Pipeline(stages=[labelIndexer, featureIndexer, rf_weighted, labelConverter])\n",
        "\n",
        "#train the model\n",
        "model_weighted = pipeline.fit(train_df_weighted)"
      ],
      "metadata": {
        "id": "DyS3Y1EPeMVA"
      },
      "execution_count": null,
      "outputs": []
    },
    {
      "cell_type": "code",
      "source": [
        "# Make predictions.\n",
        "predictions_weighted = model_weighted.transform(test_df)\n",
        "# select relevant columns from the DataFrame, make it into an RDD\n",
        "pred_and_label_weighted = predictions_weighted.select(\n",
        "    'label', 'predictedLabel', 'probability'\n",
        ").rdd.map(\n",
        "    lambda x: ( x.__getitem__('label'),\n",
        "                float(x.__getitem__('predictedLabel')),\n",
        "                x.__getitem__('probability')[1]\n",
        "               )\n",
        ").cache()"
      ],
      "metadata": {
        "id": "kSQpa5Rofem7"
      },
      "execution_count": null,
      "outputs": []
    },
    {
      "cell_type": "code",
      "source": [
        "fpr_list_weighted = []\n",
        "tpr_list_weighted = []\n",
        "\n",
        "for t in thresholds:\n",
        "  fpr_weighted, tpr_weighted = get_roc(pred_and_label_weighted, t)\n",
        "  fpr_list_weighted.append(fpr_weighted)\n",
        "  tpr_list_weighted.append(tpr_weighted)"
      ],
      "metadata": {
        "id": "TR3fUa-df1gn"
      },
      "execution_count": null,
      "outputs": []
    },
    {
      "cell_type": "code",
      "source": [
        "plt.figure(figsize=(10, 10))\n",
        "\n",
        "plt.plot(fpr_list, tpr_list, label='Unaugmented')\n",
        "plt.plot(thresholds, thresholds, 'b--')\n",
        "plt.plot(fpr_list_aug, tpr_list_aug, label=\"Augmented\")\n",
        "plt.plot(fpr_list_weighted, tpr_list_weighted, label=\"Weighted\")\n",
        "plt.xlabel(\"False Positive Rate\")\n",
        "plt.ylabel(\"True Positive Rate\")\n",
        "plt.title('ROC Curves, Bitcoin Fraud Detection')\n",
        "plt.legend()"
      ],
      "metadata": {
        "colab": {
          "base_uri": "https://localhost:8080/",
          "height": 640
        },
        "id": "GYGv2RbBgCqJ",
        "outputId": "b5dde0aa-10a6-490c-fa33-08f92a39826f"
      },
      "execution_count": null,
      "outputs": [
        {
          "output_type": "execute_result",
          "data": {
            "text/plain": [
              "<matplotlib.legend.Legend at 0x7f747a437150>"
            ]
          },
          "metadata": {},
          "execution_count": 40
        },
        {
          "output_type": "display_data",
          "data": {
            "text/plain": [
              "<Figure size 720x720 with 1 Axes>"
            ],
            "image/png": "[encoded data removed]"
          },
          "metadata": {
            "needs_background": "light"
          }
        }
      ]
    },
    {
      "cell_type": "code",
      "source": [
        "fpr_weighted, tpr_weighted, con_weighted = get_metrics(pred_and_label_weighted)\n",
        "\n",
        "prec_weighted = con_weighted['tp']/(con_weighted['tp'] + con_weighted['fp'])\n",
        "f1_weighted = 2*con_weighted['tp']/(2*con_weighted['tp'] + con_weighted['fp'] + con_weighted['fn'])\n",
        "\n",
        "print('Precision = %g' % prec_weighted)\n",
        "print(\"True Positive Rate = %g\" % tpr_weighted)\n",
        "print(\"False Positive Rate = %g\" % fpr_weighted)\n",
        "print(\"F1 Score = %g\" %f1_weighted)"
      ],
      "metadata": {
        "colab": {
          "base_uri": "https://localhost:8080/"
        },
        "id": "I9kUJuhagU6_",
        "outputId": "1585a4f1-9f3a-404f-9564-daee75fac0f5"
      },
      "execution_count": null,
      "outputs": [
        {
          "output_type": "stream",
          "name": "stdout",
          "text": [
            "Precision = 0.990642\n",
            "True Positive Rate = 0.684211\n",
            "False Positive Rate = 0.000449092\n",
            "F1 Score = 0.809394\n"
          ]
        }
      ]
    },
    {
      "cell_type": "markdown",
      "source": [
        "As we can see from the results, the weighted random forest performed the best out of all the models; the false positive rate for the model is at least as good as for the baseline, with modest improvements in precision, true positive rate, and F1 score. "
      ],
      "metadata": {
        "id": "ujfDfK9jzo3W"
      }
    }
  ]
}